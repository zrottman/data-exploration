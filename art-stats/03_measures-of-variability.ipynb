{
 "cells": [
  {
   "cell_type": "code",
   "execution_count": 65,
   "id": "6154abdf",
   "metadata": {},
   "outputs": [],
   "source": [
    "# Standard imports\n",
    "import pandas as pd\n",
    "import numpy as np\n",
    "import matplotlib.pyplot as plt\n",
    "import seaborn as sns\n",
    "%matplotlib inline\n",
    "\n",
    "# Dataset utils\n",
    "import art_stats_utils"
   ]
  },
  {
   "cell_type": "code",
   "execution_count": 66,
   "id": "96d4f2d9",
   "metadata": {},
   "outputs": [
    {
     "data": {
      "text/html": [
       "<div>\n",
       "<style scoped>\n",
       "    .dataframe tbody tr th:only-of-type {\n",
       "        vertical-align: middle;\n",
       "    }\n",
       "\n",
       "    .dataframe tbody tr th {\n",
       "        vertical-align: top;\n",
       "    }\n",
       "\n",
       "    .dataframe thead th {\n",
       "        text-align: right;\n",
       "    }\n",
       "</style>\n",
       "<table border=\"1\" class=\"dataframe\">\n",
       "  <thead>\n",
       "    <tr style=\"text-align: right;\">\n",
       "      <th></th>\n",
       "      <th>Title</th>\n",
       "      <th>Artist</th>\n",
       "      <th>BeginDate</th>\n",
       "      <th>EndDate</th>\n",
       "      <th>Date</th>\n",
       "      <th>DateAcquired</th>\n",
       "      <th>year_acquired</th>\n",
       "      <th>date_stripped</th>\n",
       "      <th>begun_year</th>\n",
       "      <th>completed_year</th>\n",
       "      <th>birth_year</th>\n",
       "      <th>death_year</th>\n",
       "      <th>artwork_age</th>\n",
       "      <th>living</th>\n",
       "      <th>artist_age</th>\n",
       "      <th>years_posthumous</th>\n",
       "    </tr>\n",
       "  </thead>\n",
       "  <tbody>\n",
       "    <tr>\n",
       "      <th>0</th>\n",
       "      <td>Ferdinandsbrücke Project, Vienna, Austria (Ele...</td>\n",
       "      <td>Otto Wagner</td>\n",
       "      <td>(1841)</td>\n",
       "      <td>(1918)</td>\n",
       "      <td>1896</td>\n",
       "      <td>1996-04-09</td>\n",
       "      <td>1996.0</td>\n",
       "      <td>1896</td>\n",
       "      <td>1896.0</td>\n",
       "      <td>1896.0</td>\n",
       "      <td>1841.0</td>\n",
       "      <td>1918.0</td>\n",
       "      <td>100.0</td>\n",
       "      <td>0</td>\n",
       "      <td>NaN</td>\n",
       "      <td>78.0</td>\n",
       "    </tr>\n",
       "    <tr>\n",
       "      <th>1</th>\n",
       "      <td>City of Music, National Superior Conservatory ...</td>\n",
       "      <td>Christian de Portzamparc</td>\n",
       "      <td>(1944)</td>\n",
       "      <td>(0)</td>\n",
       "      <td>1987</td>\n",
       "      <td>1995-01-17</td>\n",
       "      <td>1995.0</td>\n",
       "      <td>1987</td>\n",
       "      <td>1987.0</td>\n",
       "      <td>1987.0</td>\n",
       "      <td>1944.0</td>\n",
       "      <td>0.0</td>\n",
       "      <td>8.0</td>\n",
       "      <td>1</td>\n",
       "      <td>51.0</td>\n",
       "      <td>NaN</td>\n",
       "    </tr>\n",
       "    <tr>\n",
       "      <th>2</th>\n",
       "      <td>Villa near Vienna Project, Outside Vienna, Aus...</td>\n",
       "      <td>Emil Hoppe</td>\n",
       "      <td>(1876)</td>\n",
       "      <td>(1957)</td>\n",
       "      <td>1903</td>\n",
       "      <td>1997-01-15</td>\n",
       "      <td>1997.0</td>\n",
       "      <td>1903</td>\n",
       "      <td>1903.0</td>\n",
       "      <td>1903.0</td>\n",
       "      <td>1876.0</td>\n",
       "      <td>1957.0</td>\n",
       "      <td>94.0</td>\n",
       "      <td>0</td>\n",
       "      <td>NaN</td>\n",
       "      <td>40.0</td>\n",
       "    </tr>\n",
       "    <tr>\n",
       "      <th>3</th>\n",
       "      <td>The Manhattan Transcripts Project, New York, N...</td>\n",
       "      <td>Bernard Tschumi</td>\n",
       "      <td>(1944)</td>\n",
       "      <td>(0)</td>\n",
       "      <td>1980</td>\n",
       "      <td>1995-01-17</td>\n",
       "      <td>1995.0</td>\n",
       "      <td>1980</td>\n",
       "      <td>1980.0</td>\n",
       "      <td>1980.0</td>\n",
       "      <td>1944.0</td>\n",
       "      <td>0.0</td>\n",
       "      <td>15.0</td>\n",
       "      <td>1</td>\n",
       "      <td>51.0</td>\n",
       "      <td>NaN</td>\n",
       "    </tr>\n",
       "    <tr>\n",
       "      <th>4</th>\n",
       "      <td>Villa, project, outside Vienna, Austria, Exter...</td>\n",
       "      <td>Emil Hoppe</td>\n",
       "      <td>(1876)</td>\n",
       "      <td>(1957)</td>\n",
       "      <td>1903</td>\n",
       "      <td>1997-01-15</td>\n",
       "      <td>1997.0</td>\n",
       "      <td>1903</td>\n",
       "      <td>1903.0</td>\n",
       "      <td>1903.0</td>\n",
       "      <td>1876.0</td>\n",
       "      <td>1957.0</td>\n",
       "      <td>94.0</td>\n",
       "      <td>0</td>\n",
       "      <td>NaN</td>\n",
       "      <td>40.0</td>\n",
       "    </tr>\n",
       "  </tbody>\n",
       "</table>\n",
       "</div>"
      ],
      "text/plain": [
       "                                               Title  \\\n",
       "0  Ferdinandsbrücke Project, Vienna, Austria (Ele...   \n",
       "1  City of Music, National Superior Conservatory ...   \n",
       "2  Villa near Vienna Project, Outside Vienna, Aus...   \n",
       "3  The Manhattan Transcripts Project, New York, N...   \n",
       "4  Villa, project, outside Vienna, Austria, Exter...   \n",
       "\n",
       "                     Artist BeginDate EndDate  Date DateAcquired  \\\n",
       "0               Otto Wagner    (1841)  (1918)  1896   1996-04-09   \n",
       "1  Christian de Portzamparc    (1944)     (0)  1987   1995-01-17   \n",
       "2                Emil Hoppe    (1876)  (1957)  1903   1997-01-15   \n",
       "3           Bernard Tschumi    (1944)     (0)  1980   1995-01-17   \n",
       "4                Emil Hoppe    (1876)  (1957)  1903   1997-01-15   \n",
       "\n",
       "   year_acquired date_stripped  begun_year  completed_year  birth_year  \\\n",
       "0         1996.0          1896      1896.0          1896.0      1841.0   \n",
       "1         1995.0          1987      1987.0          1987.0      1944.0   \n",
       "2         1997.0          1903      1903.0          1903.0      1876.0   \n",
       "3         1995.0          1980      1980.0          1980.0      1944.0   \n",
       "4         1997.0          1903      1903.0          1903.0      1876.0   \n",
       "\n",
       "   death_year  artwork_age  living  artist_age  years_posthumous  \n",
       "0      1918.0        100.0       0         NaN              78.0  \n",
       "1         0.0          8.0       1        51.0               NaN  \n",
       "2      1957.0         94.0       0         NaN              40.0  \n",
       "3         0.0         15.0       1        51.0               NaN  \n",
       "4      1957.0         94.0       0         NaN              40.0  "
      ]
     },
     "execution_count": 66,
     "metadata": {},
     "output_type": "execute_result"
    }
   ],
   "source": [
    "# Read data\n",
    "df = pd.read_csv('../data/moma/Artworks.csv')\n",
    "\n",
    "# Prepare data\n",
    "df = art_stats_utils.prepare_dataset(df)\n",
    "\n",
    "# Identify relevant columns\n",
    "cols = [\n",
    "    'Title', 'Artist', 'BeginDate', 'EndDate', 'Date', \n",
    "    'DateAcquired', 'year_acquired', 'date_stripped', \n",
    "    'begun_year', 'completed_year', 'birth_year', \n",
    "    'death_year', 'artwork_age', 'living', 'artist_age', \n",
    "    'years_posthumous'\n",
    "]\n",
    "\n",
    "df[cols].head()"
   ]
  },
  {
   "cell_type": "code",
   "execution_count": 67,
   "id": "f794fdbf",
   "metadata": {},
   "outputs": [
    {
     "data": {
      "text/html": [
       "<div>\n",
       "<style scoped>\n",
       "    .dataframe tbody tr th:only-of-type {\n",
       "        vertical-align: middle;\n",
       "    }\n",
       "\n",
       "    .dataframe tbody tr th {\n",
       "        vertical-align: top;\n",
       "    }\n",
       "\n",
       "    .dataframe thead th {\n",
       "        text-align: right;\n",
       "    }\n",
       "</style>\n",
       "<table border=\"1\" class=\"dataframe\">\n",
       "  <thead>\n",
       "    <tr style=\"text-align: right;\">\n",
       "      <th></th>\n",
       "      <th>Title</th>\n",
       "      <th>Artist</th>\n",
       "      <th>ConstituentID</th>\n",
       "      <th>ArtistBio</th>\n",
       "      <th>Nationality</th>\n",
       "      <th>BeginDate</th>\n",
       "      <th>EndDate</th>\n",
       "      <th>Gender</th>\n",
       "      <th>Date</th>\n",
       "      <th>Medium</th>\n",
       "      <th>...</th>\n",
       "      <th>year_acquired</th>\n",
       "      <th>date_stripped</th>\n",
       "      <th>begun_year</th>\n",
       "      <th>completed_year</th>\n",
       "      <th>birth_year</th>\n",
       "      <th>death_year</th>\n",
       "      <th>artwork_age</th>\n",
       "      <th>living</th>\n",
       "      <th>artist_age</th>\n",
       "      <th>years_posthumous</th>\n",
       "    </tr>\n",
       "  </thead>\n",
       "  <tbody>\n",
       "    <tr>\n",
       "      <th>32097</th>\n",
       "      <td>Rope and People, I</td>\n",
       "      <td>Joan Miró</td>\n",
       "      <td>4016</td>\n",
       "      <td>(Spanish, 1893–1983)</td>\n",
       "      <td>(Spanish)</td>\n",
       "      <td>(1893)</td>\n",
       "      <td>(1983)</td>\n",
       "      <td>Male</td>\n",
       "      <td>Barcelona, March 27, 1935</td>\n",
       "      <td>Oil on cardboard mounted on wood, with coil of...</td>\n",
       "      <td>...</td>\n",
       "      <td>1936.0</td>\n",
       "      <td>1935</td>\n",
       "      <td>1935.0</td>\n",
       "      <td>1935.0</td>\n",
       "      <td>1893.0</td>\n",
       "      <td>1983.0</td>\n",
       "      <td>1.0</td>\n",
       "      <td>1</td>\n",
       "      <td>43.0</td>\n",
       "      <td>NaN</td>\n",
       "    </tr>\n",
       "    <tr>\n",
       "      <th>33171</th>\n",
       "      <td>Fire in the Evening</td>\n",
       "      <td>Paul Klee</td>\n",
       "      <td>3130</td>\n",
       "      <td>(German, born Switzerland. 1879–1940)</td>\n",
       "      <td>(German)</td>\n",
       "      <td>(1879)</td>\n",
       "      <td>(1940)</td>\n",
       "      <td>Male</td>\n",
       "      <td>1929</td>\n",
       "      <td>Oil on cardboard</td>\n",
       "      <td>...</td>\n",
       "      <td>1970.0</td>\n",
       "      <td>1929</td>\n",
       "      <td>1929.0</td>\n",
       "      <td>1929.0</td>\n",
       "      <td>1879.0</td>\n",
       "      <td>1940.0</td>\n",
       "      <td>41.0</td>\n",
       "      <td>0</td>\n",
       "      <td>NaN</td>\n",
       "      <td>30.0</td>\n",
       "    </tr>\n",
       "    <tr>\n",
       "      <th>33428</th>\n",
       "      <td>Portrait of an Equilibrist</td>\n",
       "      <td>Paul Klee</td>\n",
       "      <td>3130</td>\n",
       "      <td>(German, born Switzerland. 1879–1940)</td>\n",
       "      <td>(German)</td>\n",
       "      <td>(1879)</td>\n",
       "      <td>(1940)</td>\n",
       "      <td>Male</td>\n",
       "      <td>1927</td>\n",
       "      <td>Oil and collage on cardboard over wood with pa...</td>\n",
       "      <td>...</td>\n",
       "      <td>1966.0</td>\n",
       "      <td>1927</td>\n",
       "      <td>1927.0</td>\n",
       "      <td>1927.0</td>\n",
       "      <td>1879.0</td>\n",
       "      <td>1940.0</td>\n",
       "      <td>39.0</td>\n",
       "      <td>0</td>\n",
       "      <td>NaN</td>\n",
       "      <td>26.0</td>\n",
       "    </tr>\n",
       "    <tr>\n",
       "      <th>34488</th>\n",
       "      <td>Guitar</td>\n",
       "      <td>Pablo Picasso</td>\n",
       "      <td>4609</td>\n",
       "      <td>(Spanish, 1881–1973)</td>\n",
       "      <td>(Spanish)</td>\n",
       "      <td>(1881)</td>\n",
       "      <td>(1973)</td>\n",
       "      <td>Male</td>\n",
       "      <td>Paris, early 1919</td>\n",
       "      <td>Oil, charcoal and pinned paper on canvas</td>\n",
       "      <td>...</td>\n",
       "      <td>1955.0</td>\n",
       "      <td>1919</td>\n",
       "      <td>1919.0</td>\n",
       "      <td>1919.0</td>\n",
       "      <td>1881.0</td>\n",
       "      <td>1973.0</td>\n",
       "      <td>36.0</td>\n",
       "      <td>1</td>\n",
       "      <td>74.0</td>\n",
       "      <td>NaN</td>\n",
       "    </tr>\n",
       "    <tr>\n",
       "      <th>35406</th>\n",
       "      <td>Grandmother</td>\n",
       "      <td>Arthur Dove</td>\n",
       "      <td>1602</td>\n",
       "      <td>(American, 1880–1946)</td>\n",
       "      <td>(American)</td>\n",
       "      <td>(1880)</td>\n",
       "      <td>(1946)</td>\n",
       "      <td>Male</td>\n",
       "      <td>1925</td>\n",
       "      <td>Shingles, needlepoint, page from Concordance, ...</td>\n",
       "      <td>...</td>\n",
       "      <td>1939.0</td>\n",
       "      <td>1925</td>\n",
       "      <td>1925.0</td>\n",
       "      <td>1925.0</td>\n",
       "      <td>1880.0</td>\n",
       "      <td>1946.0</td>\n",
       "      <td>14.0</td>\n",
       "      <td>1</td>\n",
       "      <td>59.0</td>\n",
       "      <td>NaN</td>\n",
       "    </tr>\n",
       "  </tbody>\n",
       "</table>\n",
       "<p>5 rows × 39 columns</p>\n",
       "</div>"
      ],
      "text/plain": [
       "                            Title         Artist ConstituentID  \\\n",
       "32097          Rope and People, I      Joan Miró          4016   \n",
       "33171         Fire in the Evening      Paul Klee          3130   \n",
       "33428  Portrait of an Equilibrist      Paul Klee          3130   \n",
       "34488                      Guitar  Pablo Picasso          4609   \n",
       "35406                 Grandmother    Arthur Dove          1602   \n",
       "\n",
       "                                   ArtistBio Nationality BeginDate EndDate  \\\n",
       "32097                   (Spanish, 1893–1983)   (Spanish)    (1893)  (1983)   \n",
       "33171  (German, born Switzerland. 1879–1940)    (German)    (1879)  (1940)   \n",
       "33428  (German, born Switzerland. 1879–1940)    (German)    (1879)  (1940)   \n",
       "34488                   (Spanish, 1881–1973)   (Spanish)    (1881)  (1973)   \n",
       "35406                  (American, 1880–1946)  (American)    (1880)  (1946)   \n",
       "\n",
       "      Gender                       Date  \\\n",
       "32097   Male  Barcelona, March 27, 1935   \n",
       "33171   Male                       1929   \n",
       "33428   Male                       1927   \n",
       "34488   Male          Paris, early 1919   \n",
       "35406   Male                       1925   \n",
       "\n",
       "                                                  Medium  ... year_acquired  \\\n",
       "32097  Oil on cardboard mounted on wood, with coil of...  ...        1936.0   \n",
       "33171                                   Oil on cardboard  ...        1970.0   \n",
       "33428  Oil and collage on cardboard over wood with pa...  ...        1966.0   \n",
       "34488           Oil, charcoal and pinned paper on canvas  ...        1955.0   \n",
       "35406  Shingles, needlepoint, page from Concordance, ...  ...        1939.0   \n",
       "\n",
       "      date_stripped begun_year completed_year birth_year death_year  \\\n",
       "32097          1935     1935.0         1935.0     1893.0     1983.0   \n",
       "33171          1929     1929.0         1929.0     1879.0     1940.0   \n",
       "33428          1927     1927.0         1927.0     1879.0     1940.0   \n",
       "34488          1919     1919.0         1919.0     1881.0     1973.0   \n",
       "35406          1925     1925.0         1925.0     1880.0     1946.0   \n",
       "\n",
       "      artwork_age  living artist_age years_posthumous  \n",
       "32097         1.0       1       43.0              NaN  \n",
       "33171        41.0       0        NaN             30.0  \n",
       "33428        39.0       0        NaN             26.0  \n",
       "34488        36.0       1       74.0              NaN  \n",
       "35406        14.0       1       59.0              NaN  \n",
       "\n",
       "[5 rows x 39 columns]"
      ]
     },
     "execution_count": 67,
     "metadata": {},
     "output_type": "execute_result"
    }
   ],
   "source": [
    "# Filter for paintings with valid width\n",
    "paintings = df[(df['Classification'] == 'Painting') & (df['Width (cm)'] > 0)]\n",
    "paintings.head()"
   ]
  },
  {
   "cell_type": "code",
   "execution_count": 68,
   "id": "b1023e1c",
   "metadata": {},
   "outputs": [
    {
     "data": {
      "text/html": [
       "<svg  width=\"165\" height=\"55\"><rect x=\"0\" y=\"0\" width=\"55\" height=\"55\" style=\"fill:#fe5f55;stroke-width:2;stroke:rgb(255,255,255)\"/><rect x=\"55\" y=\"0\" width=\"55\" height=\"55\" style=\"fill:#208aae;stroke-width:2;stroke:rgb(255,255,255)\"/><rect x=\"110\" y=\"0\" width=\"55\" height=\"55\" style=\"fill:#18a999;stroke-width:2;stroke:rgb(255,255,255)\"/></svg>"
      ],
      "text/plain": [
       "[(0.996078431372549, 0.37254901960784315, 0.3333333333333333),\n",
       " (0.12549019607843137, 0.5411764705882353, 0.6823529411764706),\n",
       " (0.09411764705882353, 0.6627450980392157, 0.6)]"
      ]
     },
     "execution_count": 68,
     "metadata": {},
     "output_type": "execute_result"
    }
   ],
   "source": [
    "# Establish palette\n",
    "pink = '#FE5F55'\n",
    "blue = '#208AAE'\n",
    "green = '#18A999'\n",
    "\n",
    "colors = [pink, blue, green]\n",
    "\n",
    "mypalette = sns.set_palette(sns.color_palette(colors))\n",
    "sns.color_palette(colors)"
   ]
  },
  {
   "cell_type": "markdown",
   "id": "52c0a973",
   "metadata": {},
   "source": [
    "# Range\n",
    "Let's take a look at painting widths."
   ]
  },
  {
   "cell_type": "code",
   "execution_count": 69,
   "id": "32103a0d",
   "metadata": {},
   "outputs": [
    {
     "name": "stdout",
     "output_type": "stream",
     "text": [
      "Max. painting width: 4,663.45 cm / 153.00 ft\n",
      "Min. painting width: 4.10 cm / 0.13 ft\n",
      "Min. painting width: 4,659.35 cm / 152.87 ft\n"
     ]
    }
   ],
   "source": [
    "# Compute max, min, and range\n",
    "max_width = paintings['Width (cm)'].max()\n",
    "min_width = paintings['Width (cm)'].min()\n",
    "width_range = max_width - min_width\n",
    "cm_to_ft = 0.0328084\n",
    "\n",
    "# Print results\n",
    "print(\"Max. painting width: {:,.2f} cm / {:,.2f} ft\".format(max_width, max_width * cm_to_ft))\n",
    "print(\"Min. painting width: {:,.2f} cm / {:,.2f} ft\".format(min_width, min_width * cm_to_ft))\n",
    "print(\"Min. painting width: {:,.2f} cm / {:,.2f} ft\".format(width_range, width_range * cm_to_ft))"
   ]
  },
  {
   "cell_type": "markdown",
   "id": "1b5b7c11",
   "metadata": {},
   "source": [
    "So we can say that MoMA's paintings range between about 4cm in width to nearly 46 meters! At one extreme is [Barnett Newman's *The Wild* (1950)](https://www.moma.org/collection/works/80574), a vertical line of a painting. And at the other is [Jennifer Bartlett's *Rhapsody* (1975-76)](https://www.moma.org/collection/works/100190), a huge painting installation that's made up of 987 one-foot-square panels.\n",
    "\n",
    "But does this really tell us much? Sure, it gives us the extremes, within which the widths of 100% of MoMA's painting collection are contained. But it doesn't tell us how most of the widths are dispersed. In other words, maybe Newman and Bartlett's works are outliers, meaning that their widths are substantially different from the widths of the bulk of the paintings in MoMA's collection."
   ]
  },
  {
   "cell_type": "markdown",
   "id": "01f2fbea",
   "metadata": {},
   "source": [
    "# Interquartile Range\n",
    "A better option would be to look at the interquartile range--that is, the difference between the 75th and 25th percentiles. This gives us the range of the central 50% of the distribution. And because outliers, by definition, \n",
    "exist not at the center but at extremes, the interquartile range has the wonderful distiction of being invulnerable to them. It is a metric, we could say, that is *robust*.\n",
    "\n",
    "So let's have a look."
   ]
  },
  {
   "cell_type": "code",
   "execution_count": 70,
   "id": "fcfaf0ac",
   "metadata": {},
   "outputs": [
    {
     "name": "stdout",
     "output_type": "stream",
     "text": [
      "25th percentile (1st quantile): 60.15 cm / 1.97 ft\n",
      "75th percentile (3st quantile): 167.66 cm / 5.50 ft\n",
      "Interquartile Range (IQR)): 107.50 cm / 3.53 ft\n"
     ]
    }
   ],
   "source": [
    "# Compute 1st and 3rd quartiles\n",
    "q1 = paintings['Width (cm)'].quantile(.25)\n",
    "q3 = paintings['Width (cm)'].quantile(.75)\n",
    "iqr = q3 - q1\n",
    "\n",
    "# Print results\n",
    "print(\"25th percentile (1st quantile): {:,.2f} cm / {:,.2f} ft\".format(q1, q1 * cm_to_ft))\n",
    "print(\"75th percentile (3st quantile): {:,.2f} cm / {:,.2f} ft\".format(q3, q3 * cm_to_ft))\n",
    "print(\"Interquartile Range (IQR)): {:,.2f} cm / {:,.2f} ft\".format(iqr, iqr * cm_to_ft))"
   ]
  },
  {
   "cell_type": "markdown",
   "id": "4a238163",
   "metadata": {},
   "source": [
    "This looks much more reasonable! Now we can say that the middle 50% of paintings vary between about 2 and 5.5 feet in width and thus have an interquartile range of about 3.5 feet.\n",
    "\n",
    "If we look at a historgram, we can see how this looks visually."
   ]
  },
  {
   "cell_type": "code",
   "execution_count": 73,
   "id": "07c8897a",
   "metadata": {},
   "outputs": [
    {
     "data": {
      "image/png": "[encoded data removed]",
      "text/plain": [
       "<Figure size 1200x500 with 1 Axes>"
      ]
     },
     "metadata": {},
     "output_type": "display_data"
    }
   ],
   "source": [
    "fig, ax = plt.subplots(figsize=(12, 5))\n",
    "\n",
    "sns.histplot(\n",
    "    data=paintings,\n",
    "    x='Width (cm)',\n",
    "    bins=80,\n",
    "    ax=ax,\n",
    "    color=blue\n",
    ")\n",
    "\n",
    "ax.axvline(min_width, color=pink, ls='--', lw=1)\n",
    "ax.annotate(\n",
    "    '0th percentile: Barnett Newman\\'s \"The Wild\" ({:.2f} cm)'.format(min_width), xy=(min_width, 600), xycoords='data', xytext=(1000, 600), \n",
    "    textcoords='data', arrowprops=dict(facecolor=pink, shrink=0),\n",
    "    horizontalalignment='left', verticalalignment='center'\n",
    ")\n",
    "\n",
    "ax.axvline(q1, color=pink, ls='--', lw=1)\n",
    "ax.annotate(\n",
    "    '25th percentile ({:.2f} cm)'.format(q1), xy=(q1, 500), xycoords='data', xytext=(1000, 500), \n",
    "    textcoords='data', arrowprops=dict(facecolor=pink, shrink=0),\n",
    "    horizontalalignment='left', verticalalignment='center'\n",
    ")\n",
    "\n",
    "ax.axvline(q3, color=pink, ls='--', lw=1)\n",
    "ax.annotate(\n",
    "    '75th percentile ({:.2f} cm)'.format(q1), xy=(q3, 400), xycoords='data', xytext=(1000, 400), \n",
    "    textcoords='data', arrowprops=dict(facecolor=pink, shrink=0),\n",
    "    horizontalalignment='left', verticalalignment='center'\n",
    ")\n",
    "\n",
    "ax.axvline(max_width, color=pink, ls='--', lw=1)\n",
    "ax.annotate(\n",
    "    '100th percentile: Jennifer Bartlett\\'s \"Rhapsody\" ({:.2f} cm)'.format(max_width), xy=(max_width, 300), xycoords='data', xytext=(1000, 300), \n",
    "    textcoords='data', arrowprops=dict(facecolor=pink, shrink=0),\n",
    "    horizontalalignment='left', verticalalignment='center'\n",
    ")\n",
    "\n",
    "ax.set_title('Painting Width Distribution');"
   ]
  },
  {
   "cell_type": "markdown",
   "id": "517e20fa",
   "metadata": {},
   "source": [
    "This chart makes it painfully clear just how misleading the original range calculation was, since the vast majority of paintings appear to be less than 500 cm (which makes sense, since 5 m is HUGE as it is!). In fact, this distribution is so positively skewed that the entire IQR, well, it looks like Newman's *The Wild*, it's so thin. This makes it clear that the interquartile range is vastly superior to the full range when it comes to providing some sense of how varied the observations are.\n",
    "\n",
    "Another way of quickly visualizing variability like this is with a boxplot."
   ]
  },
  {
   "cell_type": "code",
   "execution_count": 81,
   "id": "bcc4f431",
   "metadata": {},
   "outputs": [
    {
     "data": {
      "image/png": "[encoded data removed]",
      "text/plain": [
       "<Figure size 1200x300 with 1 Axes>"
      ]
     },
     "metadata": {},
     "output_type": "display_data"
    }
   ],
   "source": [
    "fig, ax = plt.subplots(figsize=(12, 3))\n",
    "\n",
    "# Style fliers\n",
    "flierprops = dict(\n",
    "    marker='o', markerfacecolor=pink, markersize=10,  \n",
    "    markeredgecolor='black', markeredgewidth=.5, alpha=.8\n",
    ")\n",
    "\n",
    "sns.boxplot(\n",
    "    data=paintings,\n",
    "    x='Width (cm)',\n",
    "    ax=ax,\n",
    "    color=blue,\n",
    "    flierprops=flierprops\n",
    ")\n",
    "\n",
    "ax.set_title('Painting Widths at MoMA');"
   ]
  },
  {
   "cell_type": "markdown",
   "id": "796ac356",
   "metadata": {},
   "source": [
    "It takes a little getting used to if you haven't looked at one of these before. The thin blue shaded are represents the interquartile range, and the vertical line in the middle is the median (50th percentile) values. The bars sticking out on either side are called whiskers, which by convention extend past the 25th and 75th percentiles by 1.5 x the IQR (in this case about 161.3 cm). All those black diamonds beyond the right whisker? Those are outliers. We can see Bartlett's *Rhapsody* clearly at the right, and then [James Rosenquist's behemoth *F-111* (1964-65)](https://www.moma.org/collection/works/79805) after that.\n",
    "\n",
    "Most of the time it's best to let outliers be outliers and ignore them if what we're interested in is getting a sense of a distribution's central tendency and variability, in which case we could do this:"
   ]
  },
  {
   "cell_type": "code",
   "execution_count": 82,
   "id": "1c6479ac",
   "metadata": {},
   "outputs": [
    {
     "data": {
      "image/png": "[encoded data removed]",
      "text/plain": [
       "<Figure size 1200x500 with 1 Axes>"
      ]
     },
     "metadata": {},
     "output_type": "display_data"
    }
   ],
   "source": [
    "fig, ax = plt.subplots(figsize=(12, 5))\n",
    "\n",
    "sns.boxplot(\n",
    "    data=paintings,\n",
    "    x='Width (cm)',\n",
    "    showfliers=False,\n",
    "    ax=ax,\n",
    "    color=blue\n",
    ")\n",
    "\n",
    "ax.set_title('Painting Widths at MoMA');"
   ]
  },
  {
   "cell_type": "markdown",
   "id": "d1081fcb",
   "metadata": {},
   "source": [
    "That right there gives us a damn good picture of MoMA's painting collection when it comes to width."
   ]
  },
  {
   "cell_type": "markdown",
   "id": "36be79aa",
   "metadata": {},
   "source": [
    "# Standard Deviation\n",
    "The last foundational measure of variability is standard deviation, which sounds complicated but is just the average (i.e., standard) difference (i.e., deviation) of each observation from the mean. In other words, if we have a distribution with a mean of 100 and standard deviation of 5, we could say that, on average, the observations are +/- 5 from the mean.\n",
    "\n",
    "Like the mean, standard deviation is *not* robust to outliers, since an outlier is very, very far from the mean and will bias the standard deviation in that direction."
   ]
  },
  {
   "cell_type": "code",
   "execution_count": 64,
   "id": "30b958ad",
   "metadata": {
    "scrolled": true
   },
   "outputs": [
    {
     "name": "stdout",
     "output_type": "stream",
     "text": [
      "Mean width: 130.94 cm / 4.30 ft\n",
      "Standard Deviation: 150.58 cm / 4.94 ft\n"
     ]
    }
   ],
   "source": [
    "mean_width = paintings['Width (cm)'].mean()\n",
    "std_width = paintings['Width (cm)'].std()\n",
    "\n",
    "print(\"Mean width: {:,.2f} cm / {:,.2f} ft\".format(mean_width, mean_width * cm_to_ft))\n",
    "print(\"Standard Deviation: {:,.2f} cm / {:,.2f} ft\".format(std_width, std_width * cm_to_ft))"
   ]
  },
  {
   "cell_type": "markdown",
   "id": "67759090",
   "metadata": {},
   "source": [
    "To wrap this in english, we'd say that the mean painting width if 4.3 feet with a standar deviation of almost 5 feet, meaning that, on average, paintings are 4.3 ft. +/- 5 ft.\n",
    "\n",
    "Let's compare that to our robust measures--median and IQR."
   ]
  },
  {
   "cell_type": "code",
   "execution_count": 63,
   "id": "65689b7b",
   "metadata": {},
   "outputs": [
    {
     "name": "stdout",
     "output_type": "stream",
     "text": [
      "Median width: 98.05 cm / 3.22 ft\n",
      "IQR: 107.50 cm / 3.53 ft\n"
     ]
    }
   ],
   "source": [
    "median_width = paintings['Width (cm)'].median()\n",
    "\n",
    "print(\"Median width: {:,.2f} cm / {:,.2f} ft\".format(median_width, median_width * cm_to_ft))\n",
    "print(\"IQR: {:,.2f} cm / {:,.2f} ft\".format(iqr, iqr * cm_to_ft))"
   ]
  },
  {
   "cell_type": "markdown",
   "id": "b7561dec",
   "metadata": {},
   "source": [
    "We can definitely see how Bartlett's and Rosenquist's (and others') gargantuan works are biasing the mean and standard deviation in the positive direction. These measures are suggesting that what's \"typical\" at MoMA are bigger and more varied that what's actually true.\n",
    "\n",
    "The advantage of mean and standard deviation is that they take into account the entire spectrum of observations, which, as we've seen, is not the case with median and interquartile range. If a distribution was more symmetrical, the former metrics would thus provide a more accurate and comprehensive estimation.\n",
    "\n",
    "As one final example, let's revisit the more symmetrical distribution of painter's ages at the time of acquisition (for painters still living at that event)."
   ]
  },
  {
   "cell_type": "code",
   "execution_count": 116,
   "id": "66734e0d",
   "metadata": {},
   "outputs": [
    {
     "data": {
      "image/png": "[encoded data removed]",
      "text/plain": [
       "<Figure size 1000x600 with 1 Axes>"
      ]
     },
     "metadata": {},
     "output_type": "display_data"
    }
   ],
   "source": [
    "# Plot\n",
    "fig, ax = plt.subplots(figsize=(10, 6))\n",
    "sns.histplot(\n",
    "    data=paintings,\n",
    "    x='artist_age',\n",
    "    color=pink,\n",
    "    ax=ax,\n",
    "    binwidth=5,\n",
    "    binrange=(10, 110),\n",
    "    stat='percent',\n",
    ")\n",
    "\n",
    "# Axis labels\n",
    "ax.set_title('Painter\\'s Age at Time of Acquisition (Living Painters)')\n",
    "ax.set_xlabel('Age')\n",
    "ax.set_xticks(range(0, 130, 10))\n",
    "ax.set_xlim(13, 107)\n",
    "\n",
    "# Mean line and annotation\n",
    "mean = paintings['artist_age'].mean()\n",
    "std = paintings['artist_age'].std()\n",
    "\n",
    "ax.axvline(mean, color=blue, ls='--', lw=1)\n",
    "ax.annotate(\n",
    "    'Mean ({:.2f})'.format(mean), xy=(mean, 6), xycoords='data', xytext=(80, 6), \n",
    "    textcoords='data', arrowprops=dict(facecolor=blue, shrink=0),\n",
    "    horizontalalignment='left', verticalalignment='center'\n",
    ")\n",
    "\n",
    "ax.axvline(mean + std, color=blue, ls='-', lw=2)\n",
    "ax.axvline(mean - std, color=blue, ls='-', lw=2)\n",
    "ax.annotate(\n",
    "    'Mean +/- 1 st. dev.', xy=(mean - std, 12), xycoords='data', xytext=(mean + std, 12), \n",
    "    textcoords='data', arrowprops=dict(edgecolor=blue, arrowstyle='<->'),\n",
    "    horizontalalignment='left', verticalalignment='center', backgroundcolor=blue\n",
    ")\n",
    "\n",
    "# Median line and annotation\n",
    "median = paintings['artist_age'].median()\n",
    "q1, q3 = paintings['artist_age'].quantile([.25, .75])\n",
    "\n",
    "ax.axvline(median, color=green, ls='--', lw=1)\n",
    "ax.annotate(\n",
    "    'Median ({:.2f})'.format(median), xy=(median, 8), xycoords='data', xytext=(80, 8), \n",
    "    textcoords='data', arrowprops=dict(facecolor=green, shrink=0),\n",
    "    horizontalalignment='left', verticalalignment='center'\n",
    ")\n",
    "\n",
    "ax.axvline(q1, color=green, ls='-', lw=2)\n",
    "ax.axvline(q3, color=green, ls='-', lw=2)\n",
    "ax.annotate(\n",
    "    'IQR', xy=(q1, 10), xycoords='data', xytext=(q3, 10), \n",
    "    textcoords='data', arrowprops=dict(edgecolor=green, arrowstyle='<->'),\n",
    "    horizontalalignment='left', verticalalignment='center', backgroundcolor=green\n",
    ");\n",
    "\n",
    "#plt.savefig(fname='???.png', dpi=150, bbox_inches='tight');"
   ]
  },
  {
   "cell_type": "markdown",
   "id": "b3388438",
   "metadata": {},
   "source": [
    "Given that this distribution is much more symmetrical, my feeling is that the mean (rather than median) would offer a more accurate representation of its central tendency as would the standard deviation (rather than IQR) for representing its variability."
   ]
  },
  {
   "cell_type": "code",
   "execution_count": null,
   "id": "372b0f41",
   "metadata": {},
   "outputs": [],
   "source": []
  }
 ],
 "metadata": {
  "kernelspec": {
   "display_name": "Python 3 (ipykernel)",
   "language": "python",
   "name": "python3"
  },
  "language_info": {
   "codemirror_mode": {
    "name": "ipython",
    "version": 3
   },
   "file_extension": ".py",
   "mimetype": "text/x-python",
   "name": "python",
   "nbconvert_exporter": "python",
   "pygments_lexer": "ipython3",
   "version": "3.10.6"
  }
 },
 "nbformat": 4,
 "nbformat_minor": 5
}
